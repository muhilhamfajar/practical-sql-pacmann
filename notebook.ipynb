{
 "cells": [
  {
   "cell_type": "code",
   "execution_count": 1,
   "id": "1b0aeb09",
   "metadata": {},
   "outputs": [],
   "source": [
    "from faker import Faker\n",
    "from faker_vehicle import VehicleProvider\n",
    "import psycopg2\n",
    "import random"
   ]
  },
  {
   "cell_type": "code",
   "execution_count": 84,
   "id": "9e62169c",
   "metadata": {},
   "outputs": [],
   "source": [
    "def insert_brand(brand_name):\n",
    "    try:\n",
    "        query = f\"INSERT INTO brand (name) VALUES ('{brand_name}') RETURNING brand_id;\"\n",
    "        cur.execute(query)\n",
    "        conn.commit()\n",
    "        return cur.fetchone()[0]\n",
    "    except Exception as e:\n",
    "        print(f\"Error inserting city: {e}\")\n",
    "        cur.execute(\"ROLLBACK\")\n",
    "\n",
    "def insert_car(brand_id, model, year, tipe_mobil, body_type, price):\n",
    "    try:\n",
    "        query = f\"INSERT INTO cars (brand_id, name, year, tipe_mobil, body_type, price) VALUES ({brand_id}, '{model}', {year}, '{tipe_mobil}', '{body_type}', {price});\"\n",
    "        cur.execute(query)\n",
    "        conn.commit()\n",
    "    except Exception as e:\n",
    "        print(f\"Error inserting city: {e}\")\n",
    "        cur.execute(\"ROLLBACK\")\n",
    "    \n",
    "def insert_city(city, latitude, longitude):\n",
    "    try:\n",
    "        query = f\"INSERT INTO city (nama_kota, latitude, longitude) VALUES ('{city}', {latitude}, {longitude});\"\n",
    "        cur.execute(query)\n",
    "        conn.commit()\n",
    "    except Exception as e:\n",
    "        print(f\"Error inserting city: {e}\")\n",
    "        cur.execute(\"ROLLBACK\")\n",
    "        \n",
    "def insert_user(city_id, name, contact):\n",
    "    try:\n",
    "        query = f\"INSERT INTO users (name, kontak, city_id) VALUES ('{name}', '{contact}', {city_id});\"\n",
    "        cur.execute(query)\n",
    "        conn.commit()\n",
    "    except Exception as e:\n",
    "        print(f\"Error inserting users: {e}\")\n",
    "        cur.execute(\"ROLLBACK\")\n",
    "        \n",
    "def insert_ads(owner_id, car_id, jarak_tempuh, enable_bid):\n",
    "    try:\n",
    "        query = f\"INSERT INTO ads (owner_id, car_id, jarak_tempuh, enable_bid) VALUES ({owner_id}, {car_id}, {jarak_tempuh}, {enable_bid});\"\n",
    "        cur.execute(query)\n",
    "        conn.commit()\n",
    "    except Exception as e:\n",
    "        print(f\"Error inserting ads: {e}\")\n",
    "        cur.execute(\"ROLLBACK\")\n",
    "\n",
    "def insert_bid(buyer_id, ads_id, bid_price):\n",
    "    try:\n",
    "        query = f\"INSERT INTO bids (buyer_id, ads_id, bid_price) VALUES ({buyer_id}, {ads_id}, {bid_price});\"\n",
    "        cur.execute(query)\n",
    "        conn.commit()\n",
    "    except Exception as e:\n",
    "        print(f\"Error inserting bids: {e}\")\n",
    "        cur.execute(\"ROLLBACK\")\n",
    "        \n",
    "def get_random_id_from_table(cursor, table_name, id):\n",
    "    query = f\"SELECT {id} FROM {table_name} ORDER BY RANDOM() LIMIT 1;\"\n",
    "    cursor.execute(query)\n",
    "    return cursor.fetchone()[0]\n",
    "\n",
    "def find_random_id_negotiable_ads(cursor):\n",
    "    query = f\"SELECT ad_id FROM ads WHERE enable_bid = true ORDER BY RANDOM() LIMIT 1;\"\n",
    "    cursor.execute(query)\n",
    "    return cursor.fetchone()[0]"
   ]
  },
  {
   "cell_type": "code",
   "execution_count": 74,
   "id": "f0701dae",
   "metadata": {},
   "outputs": [],
   "source": [
    "conn_params = {\n",
    "    'host': 'localhost',\n",
    "    'port': '5432',\n",
    "    'database': 'olx',\n",
    "    'user': 'postgres',\n",
    "    'password': ''\n",
    "}\n",
    "\n",
    "# Connect to the database\n",
    "conn = psycopg2.connect(**conn_params)\n",
    "\n",
    "# Create a cursor object\n",
    "cur = conn.cursor()\n",
    "\n",
    "# Set the search_path to include the my_schema schema\n",
    "cur.execute(\"SET search_path TO my_schema, public\")"
   ]
  },
  {
   "cell_type": "code",
   "execution_count": 3,
   "id": "425170e3",
   "metadata": {},
   "outputs": [],
   "source": [
    "fake = Faker('id_ID')"
   ]
  },
  {
   "cell_type": "code",
   "execution_count": 75,
   "id": "025f656b",
   "metadata": {
    "scrolled": true
   },
   "outputs": [],
   "source": [
    "fake.add_provider(VehicleProvider)\n",
    "\n",
    "# Generate and insert data\n",
    "num_brands = 10\n",
    "num_cars_per_brand = 5\n",
    "\n",
    "for _ in range(num_brands):\n",
    "    brand_name = fake.vehicle_make()\n",
    "    brand_id = insert_brand(brand_name)\n",
    "\n",
    "    for _ in range(num_cars_per_brand):\n",
    "        car_model = fake.vehicle_make_model()\n",
    "        car_year = fake.year()\n",
    "        car_tipe = random.choice(['AT', 'MT'])\n",
    "        car_body = fake.vehicle_category()\n",
    "        price = round(random.uniform(50, 500)) * 1000000\n",
    "        insert_car(brand_id, car_model, car_year, car_tipe, car_body, price)"
   ]
  },
  {
   "cell_type": "code",
   "execution_count": 31,
   "id": "6a04ddc5",
   "metadata": {},
   "outputs": [],
   "source": [
    "cities = [fake.city() for _ in range(100)]\n",
    "cities = list(set(cities))\n",
    "\n",
    "for city in cities:\n",
    "    insert_city(city, fake.latitude(), fake.longitude())"
   ]
  },
  {
   "cell_type": "code",
   "execution_count": 58,
   "id": "c595ee21",
   "metadata": {},
   "outputs": [],
   "source": [
    "total_users = 100\n",
    "\n",
    "for _ in range(total_users):\n",
    "    city_id = get_random_id_from_table(cur, 'city', 'city_id')\n",
    "    name = fake.name_nonbinary()\n",
    "    contact = fake.phone_number()\n",
    "    insert_user(city_id, name, contact)"
   ]
  },
  {
   "cell_type": "code",
   "execution_count": 79,
   "id": "84328933",
   "metadata": {},
   "outputs": [],
   "source": [
    "total_ads = 200\n",
    "\n",
    "for _ in range(total_ads):\n",
    "    owner_id = get_random_id_from_table(cur, 'users', 'user_id')\n",
    "    car_id = get_random_id_from_table(cur, 'cars', 'car_id')\n",
    "    jarak_tempuh = random.randint(1000, 500000)\n",
    "    enable_bid = random.choice([True, False])\n",
    "    insert_ads(owner_id, car_id, jarak_tempuh, enable_bid)"
   ]
  },
  {
   "cell_type": "code",
   "execution_count": 85,
   "id": "d308ebb0",
   "metadata": {},
   "outputs": [],
   "source": [
    "total_bid = 200\n",
    "\n",
    "for _ in range(total_bid):\n",
    "    ads_id = find_random_id_negotiable_ads(cur)\n",
    "    buyer_id = get_random_id_from_table(cur, 'users', 'user_id')\n",
    "    bid_price = price = round(random.uniform(50, 500)) * 1000000\n",
    "    insert_bid(buyer_id, ads_id, bid_price)"
   ]
  },
  {
   "cell_type": "code",
   "execution_count": 72,
   "id": "129c7520",
   "metadata": {},
   "outputs": [],
   "source": [
    "cur.close()\n",
    "conn.close()"
   ]
  }
 ],
 "metadata": {
  "jupytext": {
   "formats": "ipynb,py:light"
  },
  "kernelspec": {
   "display_name": "Python 3 (ipykernel)",
   "language": "python",
   "name": "python3"
  },
  "language_info": {
   "codemirror_mode": {
    "name": "ipython",
    "version": 3
   },
   "file_extension": ".py",
   "mimetype": "text/x-python",
   "name": "python",
   "nbconvert_exporter": "python",
   "pygments_lexer": "ipython3",
   "version": "3.9.13"
  }
 },
 "nbformat": 4,
 "nbformat_minor": 5
}
